{
 "cells": [
  {
   "cell_type": "markdown",
   "metadata": {},
   "source": [
    "# Умовні конструкції\n",
    "Ці конструкції ми використовуємо постійно для перевірки різних елементів на правду чи лож"
   ]
  },
  {
   "cell_type": "code",
   "execution_count": null,
   "metadata": {},
   "outputs": [],
   "source": []
  },
  {
   "cell_type": "markdown",
   "metadata": {},
   "source": [
    "## IF\n",
    "_Базова конструкція (якщо) (або)_"
   ]
  },
  {
   "cell_type": "code",
   "execution_count": null,
   "metadata": {},
   "outputs": [],
   "source": [
    "address = \"Lviv city, Ukraine, Zamarstynivska street, 34\"\n",
    "\n",
    "import re\n",
    "\n",
    "# regex to validate uppercase and length should be 2+ lettersregex = r'[A-ZА-Я]'\n",
    "{2,}\n",
    "\n",
    "# example usage\n",
    "text = 'ЗаЗа\n",
    "if re.match(regex, text):\n",
    "    print('Valid uppercase string')\n",
    "else:\n",
    "    print('Invalid uppercase string')"
   ]
  },
  {
   "cell_type": "code",
   "execution_count": null,
   "metadata": {},
   "outputs": [],
   "source": [
    "i = int(input(\"insert number\"))\n",
    "\n",
    "if(i % 2 == 0):\n",
    "    print(\"Number is even\")\n",
    "else:\n",
    "    print(\"Number is odd\")"
   ]
  },
  {
   "cell_type": "markdown",
   "metadata": {},
   "source": [
    "## Match\n",
    "⚠️ Увага: Потребує python 3.10+\n",
    "\n",
    "_Дозволяє перелічити одразу декілька варіантів, для різних сценаріїв їх виконання_"
   ]
  },
  {
   "cell_type": "code",
   "execution_count": null,
   "metadata": {},
   "outputs": [],
   "source": [
    "gender = input(\"please, enter your gender\").lower()\n",
    "\n",
    "match gender:\n",
    "    case \"male\": print(\"Hi, mister! And welcome to our app!\")\n",
    "    case \"female\": print(\"Hi, miss! And welcome to our app!\")\n",
    "    case _: print(\"Hi, stranger! And welcome to our app!\")"
   ]
  },
  {
   "cell_type": "markdown",
   "metadata": {},
   "source": [
    "## Ternal operation\n",
    "_Скорочений варіант першого if_"
   ]
  },
  {
   "cell_type": "code",
   "execution_count": null,
   "metadata": {},
   "outputs": [],
   "source": [
    "print(\"Our app require your age to be more than 18 years old\")\n",
    "age = int(input(\"please, enter your age\"))\n",
    "\n",
    "# true if (...) else false\n",
    "print(\"You are allowed to use our app\") if age >= 18 else print(\"You are not allowed to use our app\")"
   ]
  },
  {
   "cell_type": "markdown",
   "metadata": {},
   "source": [
    "## Завдання для аудиторії\n",
    "\n",
    "Необхідно написати форму для відправлення її користувачам. Форма передбачає наступні пункти:\n",
    "\n",
    "1. введення ім'я користувача (ім'я має мати як мінімум 2 букви і починатись з великої букви)\n",
    "1. введення пошти користувача (пошту необхідно перевірити на наявність усіх необхідних символів - @ та .)\n",
    "1. задати користувачу питання \"наскільки ви задоволені якістю нашого обслуговування\" і надати 3 варіанти - а, б, в. А - повністю задоволений, Б - частково задоволений, В - зовсім не задоволений. Зчитати цю відповідь\n",
    "1. перевірка чи користувач погодився з нашими умовами (якщо ні, виходимо з форми)\n",
    "1. зберегти форму і вивести результат"
   ]
  },
  {
   "cell_type": "code",
   "execution_count": 19,
   "metadata": {},
   "outputs": [],
   "source": [
    "# Ім'я та його валідація\n",
    "import re\n",
    "userName = input(\"Введіть імя користувача\")\n",
    "regex = r'^[A-Z]'\n",
    "if(len(userName) < 2  or not re.match(regex, userName[0])):\n",
    "    print(\"exit\")\n",
    "    exit(0)\n",
    "    \n",
    "    # це я зробив Роман Лапюк Shaman sex.  you are welcome <3"
   ]
  },
  {
   "cell_type": "code",
   "execution_count": 2,
   "metadata": {},
   "outputs": [
    {
     "name": "stdout",
     "output_type": "stream",
     "text": [
      "Email valid test@test.test\n"
     ]
    }
   ],
   "source": [
    "import re\n",
    "\n",
    "# Пошта та валідація\n",
    "email = input(\"введіть пошту\")\n",
    "\n",
    "regex = r'^[a-zA-Z0-9._%+-]+@[a-zA-Z0-9.-]+\\.[a-zA-Z]+$'\n",
    "\n",
    "if(re.match(regex, email)):\n",
    "    print(\"Email valid\", email)\n",
    "else:\n",
    "    print(\"Email invalid\")\n",
    "\n",
    "    # це я зробив Роман Лапюк Shaman sex.  you are welcome <3"
   ]
  },
  {
   "cell_type": "code",
   "execution_count": null,
   "metadata": {},
   "outputs": [
    {
     "ename": "",
     "evalue": "",
     "output_type": "error",
     "traceback": [
      "\u001b[1;31mThe Kernel crashed while executing code in the the current cell or a previous cell. Please review the code in the cell(s) to identify a possible cause of the failure. Click <a href='https://aka.ms/vscodeJupyterKernelCrash'>here</a> for more info. View Jupyter <a href='command:jupyter.viewOutput'>log</a> for further details."
     ]
    }
   ],
   "source": [
    "# Питання\n",
    "\n",
    "answer = input(\"наскільки ви задоволені якістю нашого обслуговування?\").lower()\n",
    "match answer:\n",
    "    case \"а\": print('повністю задоволений')\n",
    "    case \"б\": print('частково незадоволений')\n",
    "    case \"в\": print('зовсім не задоволений')\n",
    "    case _: exit(0) # це я зробив Роман Лапюк Shaman sex.  you are welcome <3\n"
   ]
  },
  {
   "cell_type": "code",
   "execution_count": null,
   "metadata": {},
   "outputs": [],
   "source": [
    "# Умови та інше\n",
    "allowed = input(\"погоджуєшся паскуда?\")\n",
    "\n",
    "if allowed == \"так\":\n",
    "    print(\"молодець\")\n",
    "else:\n",
    "    print('bye')\n",
    "    exit(0)\n",
    "    # це я зробив Роман Лапюк Shaman sex.  you are welcome <3 хух"
   ]
  },
  {
   "cell_type": "code",
   "execution_count": null,
   "metadata": {},
   "outputs": [],
   "source": [
    "# Формація форми\n",
    "match answer:\n",
    "    case \"а\": answer1 = \"ви гарно оцінили нас\"\n",
    "    case \"б\": \n",
    "    case \"в\": \n",
    "\n",
    "print(\"Ви\",userName \"з поштою\", email \"\")\n",
    "\n",
    "\n",
    "# це я зробив Роман Лапюк Shaman sex.  you are welcome <3 хух\n",
    "# це я зробив Роман Лапюк Shaman sex.  you are welcome <3 хух\n",
    "# це я зробив Роман Лапюк Shaman sex.  you are welcome <3 хух\n",
    "# це я зробив Роман Лапюк Shaman sex.  you are welcome <3 хух\n",
    "# це я зробив Роман Лапюк Shaman sex.  you are welcome <3 хух# це я зробив Роман Лапюк Shaman sex.  you are welcome <3 хух\n",
    "# це я зробив Роман Лапюк Shaman sex.  you are welcome <3 хух\n",
    "# це я зробив Роман Лапюк Shaman sex.  you are welcome <3 хух# це я зробив Роман Лапюк Shaman sex.  you are welcome <3 хух\n",
    "# це я зробив Роман Лапюк Shaman sex.  you are welcome <3 хух\n",
    "# це я зробив Роман Лапюк Shaman sex.  you are welcome <3 хух\n",
    "# це я зробив Роман Лапюк Shaman sex.  you are welcome <3 хух\n",
    "# це я зробив Роман Лапюк Shaman sex.  you are welcome <3 хух\n",
    "# це я зробив Роман Лапюк Shaman sex.  you are welcome <3 хух\n",
    "# це я зробив Роман Лапюк Shaman sex.  you are welcome <3 хух\n",
    "# це я зробив Роман Лапюк Shaman sex.  you are welcome <3 хух\n",
    "# це я зробив Роман Лапюк Shaman sex.  you are welcome <3 хух\n",
    "# це я зробив Роман Лапюк Shaman sex.  you are welcome <3 хух\n",
    "\n",
    "# це я зробив Роман Лапюк Shaman sex.  you are welcome <3 хух\n",
    "# це я зробив Роман Лапюк Shaman sex.  you are welcome <3 хух\n",
    "\n",
    "# це я зробив Роман Лапюк Shaman sex.  you are welcome <3 хух\n",
    "# це я зробив Роман Лапюк Shaman sex.  you are welcome <3 хух\n"
   ]
  }
 ],
 "metadata": {
  "kernelspec": {
   "display_name": "Python 3",
   "language": "python",
   "name": "python3"
  },
  "language_info": {
   "codemirror_mode": {
    "name": "ipython",
    "version": 3
   },
   "file_extension": ".py",
   "mimetype": "text/x-python",
   "name": "python",
   "nbconvert_exporter": "python",
   "pygments_lexer": "ipython3",
   "version": "3.11.0"
  },
  "orig_nbformat": 4
 },
 "nbformat": 4,
 "nbformat_minor": 2
}
